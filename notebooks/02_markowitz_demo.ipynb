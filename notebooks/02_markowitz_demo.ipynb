{
 "cells": [
  {
   "cell_type": "markdown",
   "id": "a51eedf5",
   "metadata": {},
   "source": [
    "# Demo: Optimización Markowitz\n",
    "Ejemplo de optimización de portafolio usando el modelo de media-varianza."
   ]
  },
  {
   "cell_type": "code",
   "execution_count": null,
   "id": "61c44843",
   "metadata": {},
   "outputs": [],
   "source": [
    "# Aquí iría el código de optimización Markowitz\n",
    "# import portfolio.optim.mean_variance as mv\n",
    "# ..."
   ]
  }
 ],
 "metadata": {
  "language_info": {
   "name": "python"
  }
 },
 "nbformat": 4,
 "nbformat_minor": 5
}
