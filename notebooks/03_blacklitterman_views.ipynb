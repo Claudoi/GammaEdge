{
 "cells": [
  {
   "cell_type": "markdown",
   "id": "79135875",
   "metadata": {},
   "source": [
    "# Black-Litterman: Incorporando Views\n",
    "Ejemplo de cómo incorporar opiniones en la optimización de portafolios."
   ]
  },
  {
   "cell_type": "code",
   "execution_count": null,
   "id": "62576435",
   "metadata": {},
   "outputs": [],
   "source": [
    "# Aquí iría el código para Black-Litterman\n",
    "# import portfolio.optim.black_litterman as bl\n",
    "# ..."
   ]
  }
 ],
 "metadata": {
  "language_info": {
   "name": "python"
  }
 },
 "nbformat": 4,
 "nbformat_minor": 5
}
