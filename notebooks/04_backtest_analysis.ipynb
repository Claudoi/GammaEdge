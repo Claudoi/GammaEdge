{
 "cells": [
  {
   "cell_type": "markdown",
   "id": "dfc296ea",
   "metadata": {},
   "source": [
    "# Análisis de Backtest\n",
    "Analiza los resultados de los backtests realizados."
   ]
  },
  {
   "cell_type": "code",
   "execution_count": null,
   "id": "69e44609",
   "metadata": {},
   "outputs": [],
   "source": [
    "# Aquí iría el código para analizar los backtests\n",
    "# import portfolio.backtest.engine as bt\n",
    "# ..."
   ]
  }
 ],
 "metadata": {
  "language_info": {
   "name": "python"
  }
 },
 "nbformat": 4,
 "nbformat_minor": 5
}
