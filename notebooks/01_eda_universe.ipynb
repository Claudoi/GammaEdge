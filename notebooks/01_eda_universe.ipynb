{
 "cells": [
  {
   "cell_type": "markdown",
   "id": "2daae92c",
   "metadata": {},
   "source": [
    "# Análisis exploratorio del universo de activos\n",
    "Explora los datos y visualiza el universo de inversión."
   ]
  },
  {
   "cell_type": "code",
   "execution_count": null,
   "id": "af345142",
   "metadata": {},
   "outputs": [],
   "source": [
    "import pandas as pd\n",
    "df = pd.read_csv('../data/sp100_etfs.csv')\n",
    "df.head()"
   ]
  }
 ],
 "metadata": {
  "language_info": {
   "name": "python"
  }
 },
 "nbformat": 4,
 "nbformat_minor": 5
}
